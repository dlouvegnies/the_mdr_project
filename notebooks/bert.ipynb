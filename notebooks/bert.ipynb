{
 "cells": [
  {
   "cell_type": "code",
   "execution_count": 1,
   "metadata": {},
   "outputs": [
    {
     "name": "stderr",
     "output_type": "stream",
     "text": [
      "/Users/mathieuna/.pyenv/versions/3.10.6/envs/the_mdr_project/lib/python3.10/site-packages/tqdm/auto.py:21: TqdmWarning: IProgress not found. Please update jupyter and ipywidgets. See https://ipywidgets.readthedocs.io/en/stable/user_install.html\n",
      "  from .autonotebook import tqdm as notebook_tqdm\n"
     ]
    }
   ],
   "source": [
    "from sentence_transformers import SentenceTransformer\n",
    "model =  SentenceTransformer(\"dangvantuan/sentence-camembert-base\")\n",
    "\n",
    "sentences = [\"Un avion est en train de décoller.\",\n",
    "          \"Un homme joue d'une grande flûte.\",\n",
    "          \"Un homme étale du fromage râpé sur une pizza.\",\n",
    "          \"Une personne jette un chat au plafond.\",\n",
    "          \"Une personne est en train de plier un morceau de papier.\",\n",
    "          ]\n",
    "\n",
    "embeddings = model.encode(sentences)\n"
   ]
  },
  {
   "cell_type": "code",
   "execution_count": 3,
   "metadata": {},
   "outputs": [
    {
     "data": {
      "text/plain": [
       "array([[-0.07643069,  0.13260898,  0.03913109, ..., -0.0865857 ,\n",
       "         0.00331606,  0.06819984],\n",
       "       [ 0.15176684, -0.01682698,  0.04201532, ...,  0.08810783,\n",
       "        -0.07968128,  0.0124397 ],\n",
       "       [-0.04657991, -0.12249207, -0.09573022, ...,  0.16376111,\n",
       "        -0.08315193, -0.05128273],\n",
       "       [-0.07113859,  0.00764113, -0.26955825, ..., -0.04328598,\n",
       "        -0.09393246,  0.04076111],\n",
       "       [-0.16064472,  0.10136705, -0.22679941, ..., -0.05430287,\n",
       "         0.04999887,  0.01049216]], dtype=float32)"
      ]
     },
     "execution_count": 3,
     "metadata": {},
     "output_type": "execute_result"
    }
   ],
   "source": [
    "sentences = [\"Un avion est en train de décoller.\",\n",
    "          \"Un homme joue d'une grande flûte.\",\n",
    "          \"Un homme étale du fromage râpé sur une pizza.\",\n",
    "          \"Une personne jette un chat au plafond.\",\n",
    "          \"Une personne est en train de plier un morceau de papier.\",\n",
    "          ]\n",
    "\n",
    "embeddings = model.encode(sentences)\n",
    "embeddings"
   ]
  }
 ],
 "metadata": {
  "kernelspec": {
   "display_name": "the_mdr_project",
   "language": "python",
   "name": "python3"
  },
  "language_info": {
   "codemirror_mode": {
    "name": "ipython",
    "version": 3
   },
   "file_extension": ".py",
   "mimetype": "text/x-python",
   "name": "python",
   "nbconvert_exporter": "python",
   "pygments_lexer": "ipython3",
   "version": "3.10.6"
  }
 },
 "nbformat": 4,
 "nbformat_minor": 2
}
